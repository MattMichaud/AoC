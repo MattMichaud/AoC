{
 "cells": [
  {
   "cell_type": "code",
   "execution_count": 2,
   "metadata": {},
   "outputs": [
    {
     "name": "stdout",
     "output_type": "stream",
     "text": [
      "Part 1 Answer: 184\n",
      "Part 2 Answer: 389\n"
     ]
    }
   ],
   "source": [
    "import re\n",
    "\n",
    "def parse_input(filename):\n",
    "    with open(filename, 'r') as f:\n",
    "        data = f.read().splitlines()\n",
    "    empty_line = data.index('')\n",
    "    rules = data[:empty_line]\n",
    "    inputs = data[empty_line+1:]    \n",
    "    return(rules, inputs)\n",
    "\n",
    "def parse_rules(rules):\n",
    "    rules_dict = {}\n",
    "    for r in rules:\n",
    "        colon = r.find(':')\n",
    "        key = r[:colon]\n",
    "        value = r[colon+2:].replace('\"','')\n",
    "        rules_dict[key] = value\n",
    "    return(rules_dict)\n",
    "\n",
    "def create_regex_pattern(rules_dict, key):  \n",
    "    value = rules_dict[key].split()\n",
    "    if len(value) == 1 and value[0] in 'ab':\n",
    "        return(value[0])\n",
    "    pattern = '('\n",
    "    for item in value:\n",
    "        if item in ('ab|+'):\n",
    "            pattern += item\n",
    "        else:\n",
    "            # we hit a sub-rule\n",
    "            pattern += create_regex_pattern(rules_dict, item)\n",
    "    pattern += ')'\n",
    "    return(pattern)\n",
    "        \n",
    "def check_item(item, pattern):\n",
    "    p = '^' + pattern + '$'\n",
    "    if re.search(p, item):\n",
    "        return(True)\n",
    "    else:\n",
    "        return(False)\n",
    "\n",
    "rules, inputs = parse_input('input_day19.txt')\n",
    "rules_dict = parse_rules(rules)\n",
    "pattern = create_regex_pattern(rules_dict, '0')\n",
    "\n",
    "result = sum([check_item(i, pattern) for i in inputs])\n",
    "print('Part 1 Answer:',result)\n",
    "\n",
    "max_rec = 10\n",
    "rules_dict['8'] = '| '.join(['42 '*i for i in range(1, max_rec)])\n",
    "rules_dict['11'] = '| '.join(['42 '*i + '31 '*i for i in range(1, max_rec)])\n",
    "pattern = create_regex_pattern(rules_dict, '0')\n",
    "result = sum([check_item(i, pattern) for i in inputs])\n",
    "print('Part 2 Answer:',result)"
   ]
  }
 ],
 "metadata": {
  "kernelspec": {
   "display_name": "Python 3",
   "language": "python",
   "name": "python3"
  },
  "language_info": {
   "codemirror_mode": {
    "name": "ipython",
    "version": 3
   },
   "file_extension": ".py",
   "mimetype": "text/x-python",
   "name": "python",
   "nbconvert_exporter": "python",
   "pygments_lexer": "ipython3",
   "version": "3.7.4"
  }
 },
 "nbformat": 4,
 "nbformat_minor": 4
}
