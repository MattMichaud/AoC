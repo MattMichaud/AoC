{
 "cells": [
  {
   "cell_type": "code",
   "execution_count": 62,
   "metadata": {},
   "outputs": [],
   "source": [
    "def check_valid(number, preamble):\n",
    "    from itertools import product\n",
    "    pairs = [list(tup) for tup in product(preamble, preamble)]\n",
    "    sums = []\n",
    "    for p in pairs:\n",
    "        if p[0] != p[1]:\n",
    "            sums.append(p[0] + p[1])\n",
    "    res = True if number in sums else False\n",
    "    return(res)\n",
    "            \n",
    "\n",
    "def find_product(target, num_list):\n",
    "    list_sum = sum(num_list)\n",
    "    \n",
    "    for i in range(0, len(num_list)-1):\n",
    "        sub_list = num_list[i:]\n",
    "        test_list = []\n",
    "        for x in sub_list:\n",
    "            test_list.append(x)\n",
    "            if len(test_list) > 1:\n",
    "                test_sum = sum(test_list)\n",
    "                if test_sum == target:\n",
    "                    return(min(test_list) + max(test_list))\n",
    "    return()"
   ]
  },
  {
   "cell_type": "code",
   "execution_count": 63,
   "metadata": {},
   "outputs": [
    {
     "name": "stdout",
     "output_type": "stream",
     "text": [
      "Part 1 Answer: 10884537\n",
      "Part 2 Answer: 1261309\n"
     ]
    }
   ],
   "source": [
    "with open('input_day9.txt') as f:\n",
    "    data = f.read().splitlines()\n",
    "data = [int(d) for d in data]\n",
    "\n",
    "preamble_length = 25\n",
    "for i in range(preamble_length,len(data)):\n",
    "    num = data[i]\n",
    "    pre = data[i - preamble_length:i]\n",
    "    pre_full = data[0:i]\n",
    "    res = check_valid(num, pre)\n",
    "    if (not res):\n",
    "        break\n",
    "        \n",
    "print('Part 1 Answer:',num)\n",
    "print('Part 2 Answer:',find_product(num, pre_full))"
   ]
  }
 ],
 "metadata": {
  "kernelspec": {
   "display_name": "Python 3",
   "language": "python",
   "name": "python3"
  },
  "language_info": {
   "codemirror_mode": {
    "name": "ipython",
    "version": 3
   },
   "file_extension": ".py",
   "mimetype": "text/x-python",
   "name": "python",
   "nbconvert_exporter": "python",
   "pygments_lexer": "ipython3",
   "version": "3.7.4"
  }
 },
 "nbformat": 4,
 "nbformat_minor": 2
}
