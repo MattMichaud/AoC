{
 "cells": [
  {
   "cell_type": "code",
   "execution_count": 1,
   "metadata": {},
   "outputs": [],
   "source": [
    "with open('input_day2.txt') as f:\n",
    "    lines = f.read().splitlines()\n"
   ]
  },
  {
   "cell_type": "code",
   "execution_count": 2,
   "metadata": {},
   "outputs": [],
   "source": [
    "def parse_line(line):\n",
    "    minval = 0\n",
    "    maxval = 0\n",
    "    letter = '?'\n",
    "    pwd = 'huh'\n",
    "    \n",
    "    hyphen_pos = line.find('-')\n",
    "    first_space_pos = line.find(' ')\n",
    "    colon_pos = line.find(':')\n",
    "    \n",
    "    minval = int(line[0:hyphen_pos])\n",
    "    maxval = int(line[hyphen_pos+1:first_space_pos])\n",
    "    letter = line[first_space_pos+1:colon_pos]\n",
    "    pwd = line[colon_pos+2:]\n",
    "    \n",
    "    return(minval, maxval, letter, pwd)"
   ]
  },
  {
   "cell_type": "code",
   "execution_count": 3,
   "metadata": {},
   "outputs": [
    {
     "name": "stdout",
     "output_type": "stream",
     "text": [
      "272\n"
     ]
    }
   ],
   "source": [
    "success = 0\n",
    "for line in lines:\n",
    "    test = 0\n",
    "    minval, maxval, letter, pwd = parse_line(line)\n",
    "    #print(minval, maxval, letter, pwd)\n",
    "    letter1 = pwd[minval-1]\n",
    "    letter2 = pwd[maxval-1]\n",
    "    if letter1 == letter:\n",
    "        test += 1\n",
    "    if letter2 == letter:\n",
    "        test += 1\n",
    "    if test == 1:\n",
    "        success += 1\n",
    "        \n",
    "print(success)"
   ]
  }
 ],
 "metadata": {
  "kernelspec": {
   "display_name": "Python 3",
   "language": "python",
   "name": "python3"
  },
  "language_info": {
   "codemirror_mode": {
    "name": "ipython",
    "version": 3
   },
   "file_extension": ".py",
   "mimetype": "text/x-python",
   "name": "python",
   "nbconvert_exporter": "python",
   "pygments_lexer": "ipython3",
   "version": "3.7.4"
  }
 },
 "nbformat": 4,
 "nbformat_minor": 4
}
