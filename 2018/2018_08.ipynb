{
 "cells": [
  {
   "cell_type": "code",
   "execution_count": 26,
   "metadata": {},
   "outputs": [
    {
     "name": "stdout",
     "output_type": "stream",
     "text": [
      "Part 1 Answer: 37262\n",
      "Part 2 Answer: 20839\n"
     ]
    }
   ],
   "source": [
    "def parse_input(filename):\n",
    "    with open(filename, 'r') as f:\n",
    "        data = f.read()\n",
    "    data = [int(c) for c in data.split()]\n",
    "    return(data)\n",
    "\n",
    "def sum_metadata(li):\n",
    "    children_quantity = li[0]\n",
    "    meta_quantity = li[1]\n",
    "    remaining_li = li[2:]\n",
    "    children_processed = 0\n",
    "    meta_sum = 0\n",
    "    while children_processed < children_quantity:\n",
    "        children_sum, remaining_li = sum_metadata(remaining_li)\n",
    "        meta_sum += children_sum\n",
    "        children_processed += 1\n",
    "    meta_sum += sum(remaining_li[:meta_quantity])\n",
    "    return(meta_sum, remaining_li[meta_quantity:])\n",
    "\n",
    "\n",
    "def node_value(li):\n",
    "    children_quantity = li[0]\n",
    "    meta_quantity = li[1]\n",
    "    remaining_li = li[2:]\n",
    "    children_processed = 0\n",
    "    children_values = []\n",
    "    while children_processed < children_quantity:\n",
    "        child_value, remaining_li = node_value(remaining_li)\n",
    "        children_values.append(child_value)\n",
    "        children_processed += 1\n",
    "    meta_refs = remaining_li[:meta_quantity]\n",
    "    remaining_li = remaining_li[meta_quantity:]\n",
    "    if children_quantity == 0:\n",
    "        return(sum(meta_refs), remaining_li)\n",
    "    else:\n",
    "        meta_sum = 0\n",
    "        for index in meta_refs:\n",
    "            if 0 < index <= children_quantity:\n",
    "                meta_sum += children_values[index - 1]\n",
    "        return(meta_sum, remaining_li)\n",
    "\n",
    "\n",
    "input_file = '2018_08_input.txt'\n",
    "input_list = parse_input(input_file)\n",
    "result, _ = sum_metadata(input_list)\n",
    "print('Part 1 Answer:', result)\n",
    "result, _ = node_value(input_list)\n",
    "print('Part 2 Answer:', result)"
   ]
  }
 ],
 "metadata": {
  "kernelspec": {
   "display_name": "Python 3",
   "language": "python",
   "name": "python3"
  },
  "language_info": {
   "codemirror_mode": {
    "name": "ipython",
    "version": 3
   },
   "file_extension": ".py",
   "mimetype": "text/x-python",
   "name": "python",
   "nbconvert_exporter": "python",
   "pygments_lexer": "ipython3",
   "version": "3.8.3"
  }
 },
 "nbformat": 4,
 "nbformat_minor": 4
}
