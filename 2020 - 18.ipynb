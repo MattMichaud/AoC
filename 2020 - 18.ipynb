{
 "cells": [
  {
   "cell_type": "code",
   "execution_count": 27,
   "metadata": {},
   "outputs": [
    {
     "name": "stdout",
     "output_type": "stream",
     "text": [
      "Part 1 Answer: 5374004645253\n",
      "Part 2 Answer: 88782789402798\n"
     ]
    }
   ],
   "source": [
    "def get_input(filename):\n",
    "    with open(filename, 'r') as f:\n",
    "        data = f.read().splitlines()\n",
    "    return(data)\n",
    "\n",
    "def pre_process(line):\n",
    "    if isinstance(line, str):\n",
    "        return(list(line.replace(' ','')))\n",
    "    return(line)\n",
    "\n",
    "def eval_math_part1(line): # process + and - from left to right\n",
    "    last_op = '+'\n",
    "    result = 0\n",
    "    for item in line:\n",
    "        if str(item) in '+*':\n",
    "            last_op = item\n",
    "        else:\n",
    "            if last_op == '+': result += int(item)\n",
    "            elif last_op == '*': result *= int(item)\n",
    "    return(result)\n",
    "\n",
    "def eval_math_part2(line): # process + first, then *\n",
    "    if len(line) == 1:\n",
    "        return(line[0])\n",
    "    elif '+' in line:\n",
    "        first_plus = line.index('+')\n",
    "        return(eval_math_part2(line[:first_plus - 1] + [int(line[first_plus-1]) + int(line[first_plus+1])] + line[first_plus + 2:]))\n",
    "    elif '*' in line:\n",
    "        result = 1\n",
    "        for num in line[::2]:\n",
    "            result *= int(num)\n",
    "        return(result)\n",
    "    \n",
    "def eval_line(line, part):\n",
    "    line = pre_process(line)\n",
    "    if ')' in line:\n",
    "        first_close = line.index(')')\n",
    "        length = line[:first_close][::-1].index('(')\n",
    "        inside = line[first_close - length:first_close]\n",
    "        return(eval_line(line[:first_close - length - 1] + [eval_line(inside, part)] + line[first_close + 1:], part))\n",
    "    else:\n",
    "        if part == 1:\n",
    "            return(eval_math_part1(line))\n",
    "        else:\n",
    "            return(eval_math_part2(line))\n",
    "\n",
    "lines = get_input('input_day18.txt')        \n",
    "for i in [1,2]:\n",
    "    print('Part',i,'Answer:',sum([eval_line(l, i) for l in lines]))"
   ]
  },
  {
   "cell_type": "code",
   "execution_count": 85,
   "metadata": {},
   "outputs": [
    {
     "data": {
      "text/plain": [
       "1105.1709180756477"
      ]
     },
     "execution_count": 85,
     "metadata": {},
     "output_type": "execute_result"
    }
   ],
   "source": [
    "import math\n",
    "import numpy as np\n",
    "\n",
    "def fv_annuity(amount, frequency, annual_rate, years):\n",
    "    periodic_rate = annual_rate / frequency\n",
    "    num_periods = (frequency * years)\n",
    "    future_value = amount * ( (math.e**(periodic_rate * num_periods) - 1) / (math.e**(periodic_rate) - 1) )\n",
    "    return(future_value)\n",
    "\n",
    "def fv_single(amount, annual_rate, years):\n",
    "    future_value = amount * math.e**(annual_rate * years)\n",
    "    return(future_value)\n",
    "\n",
    "def invest_calc(starting, monthly, rate, years):\n",
    "    return(fv_single(starting, rate, years) + fv_annuity(monthly, 12, rate, years))\n",
    "\n",
    "starting_balance = 1000    \n",
    "monthly_contribution = 0\n",
    "annual_nominal_rate = 0.1\n",
    "years = 1\n",
    "\n",
    "invest_calc(starting_balance, monthly_contribution, annual_nominal_rate, years)\n",
    "\n"
   ]
  }
 ],
 "metadata": {
  "kernelspec": {
   "display_name": "Python 3",
   "language": "python",
   "name": "python3"
  },
  "language_info": {
   "codemirror_mode": {
    "name": "ipython",
    "version": 3
   },
   "file_extension": ".py",
   "mimetype": "text/x-python",
   "name": "python",
   "nbconvert_exporter": "python",
   "pygments_lexer": "ipython3",
   "version": "3.7.4"
  }
 },
 "nbformat": 4,
 "nbformat_minor": 2
}
