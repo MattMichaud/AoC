{
 "cells": [
  {
   "cell_type": "code",
   "execution_count": 44,
   "metadata": {},
   "outputs": [],
   "source": [
    "def execute_program(program):\n",
    "    cursor = accumulator = 0\n",
    "    command_counters = [0] * len(program)\n",
    "    halt = False\n",
    "    while halt != True:\n",
    "        \n",
    "        current_instruction = program[cursor]\n",
    "        command_counters[cursor] += 1\n",
    "        \n",
    "        op = current_instruction[0]\n",
    "        param = int(current_instruction[1])\n",
    "        #print(op,param)\n",
    "        \n",
    "        if command_counters[cursor] == 2:\n",
    "            return(accumulator, 'fail')\n",
    "        \n",
    "        if op == 'acc':\n",
    "            accumulator += param\n",
    "            cursor += 1\n",
    "        \n",
    "        elif op == 'nop':\n",
    "            cursor += 1\n",
    "            \n",
    "        elif op == 'jmp':\n",
    "            cursor += param\n",
    "            \n",
    "        if cursor >= len(program):\n",
    "            return(accumulator, 'success')"
   ]
  },
  {
   "cell_type": "code",
   "execution_count": 45,
   "metadata": {},
   "outputs": [
    {
     "name": "stdout",
     "output_type": "stream",
     "text": [
      "Part 1 Answer: 1317\n",
      "Part 2 Answer: 1033\n"
     ]
    }
   ],
   "source": [
    "with open('input_day8.txt') as f:\n",
    "    program = f.read()\n",
    "\n",
    "program = program.replace('+','')    \n",
    "program = program.split('\\n')[0:-1]\n",
    "program = [p.split(' ') for p in program]\n",
    "acc, res = execute_program(program)\n",
    "print('Part 1 Answer:', acc)\n",
    "\n",
    "for i in range(len(program)):\n",
    "    command = program[i][0]\n",
    "    if command == 'nop':\n",
    "        program[i][0] = 'jmp'\n",
    "        acc, res = execute_program(program)\n",
    "        if res == 'success':\n",
    "            print('Part 2 Answer:',acc)\n",
    "        program[i][0] = 'nop'\n",
    "    if command == 'jmp':\n",
    "        program[i][0] = 'nop'\n",
    "        acc, res = execute_program(program)\n",
    "        if res == 'success':\n",
    "            print('Part 2 Answer:',acc)\n",
    "        program[i][0] = 'jmp'        \n"
   ]
  }
 ],
 "metadata": {
  "kernelspec": {
   "display_name": "Python 3",
   "language": "python",
   "name": "python3"
  },
  "language_info": {
   "codemirror_mode": {
    "name": "ipython",
    "version": 3
   },
   "file_extension": ".py",
   "mimetype": "text/x-python",
   "name": "python",
   "nbconvert_exporter": "python",
   "pygments_lexer": "ipython3",
   "version": "3.7.4"
  }
 },
 "nbformat": 4,
 "nbformat_minor": 2
}
