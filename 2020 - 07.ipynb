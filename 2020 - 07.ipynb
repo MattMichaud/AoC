{
 "cells": [
  {
   "cell_type": "code",
   "execution_count": 1,
   "metadata": {},
   "outputs": [],
   "source": [
    "with open('input_day7.txt') as f:\n",
    "    rules = f.read().splitlines()\n"
   ]
  },
  {
   "cell_type": "code",
   "execution_count": 2,
   "metadata": {},
   "outputs": [],
   "source": [
    "def parse_rule(r):\n",
    "    r = r.replace('bags','BAG').replace('bag','BAG').replace('.',',')\n",
    "    parent = r[0:r.find(' BAG')]\n",
    "    children = [a[2:] for a in r.replace(parent +' BAG contain ','')[:-5].split(' BAG, ')]\n",
    "    if children[0] == ' other':\n",
    "        children.remove(' other')\n",
    "    return(parent, children)"
   ]
  },
  {
   "cell_type": "code",
   "execution_count": 3,
   "metadata": {},
   "outputs": [],
   "source": [
    "rules_parsed = {}\n",
    "for r in rules:\n",
    "    parent, children = parse_rule(r)\n",
    "    rules_parsed[parent] = children"
   ]
  },
  {
   "cell_type": "code",
   "execution_count": 4,
   "metadata": {},
   "outputs": [
    {
     "name": "stdout",
     "output_type": "stream",
     "text": [
      "Part 1 Answer: 246\n"
     ]
    }
   ],
   "source": [
    "# Part 1\n",
    "success_colors = ['shiny gold']\n",
    "append_count = 1\n",
    "while append_count > 0:\n",
    "    append_count = 0\n",
    "    for r in rules_parsed:\n",
    "        children = rules_parsed[r]\n",
    "        for c in children:\n",
    "            if c in success_colors:\n",
    "                if r not in success_colors:\n",
    "                    success_colors.append(r)\n",
    "                    append_count += 1\n",
    "success_colors.remove('shiny gold')\n",
    "print('Part 1 Answer:',len(success_colors))                    "
   ]
  },
  {
   "cell_type": "code",
   "execution_count": 5,
   "metadata": {},
   "outputs": [],
   "source": [
    "def parse_rule_with_counts(r):\n",
    "    r = r.replace('bags','BAG').replace('bag','BAG').replace('.',',')\n",
    "    parent = r[0:r.find(' BAG')]\n",
    "    r = r.replace(parent +' BAG contain ','')[:-5].split(' BAG, ')\n",
    "    children = {}\n",
    "    for child in r:\n",
    "        if child != 'no other':\n",
    "            count = int(child[:child.find(' ')])\n",
    "            color = child[child.find(' ')+1:]\n",
    "            children[color] = count\n",
    "    return(parent, children)"
   ]
  },
  {
   "cell_type": "code",
   "execution_count": 6,
   "metadata": {},
   "outputs": [],
   "source": [
    "def bag_count(bags, color):\n",
    "    total = 0\n",
    "    contents = bags[color]\n",
    "    for c in contents:\n",
    "        count = contents[c]\n",
    "        sub_total = count + count * bag_count(bags,c)\n",
    "        total += sub_total\n",
    "    return(total)"
   ]
  },
  {
   "cell_type": "code",
   "execution_count": 7,
   "metadata": {},
   "outputs": [
    {
     "name": "stdout",
     "output_type": "stream",
     "text": [
      "Part 2 Answer: 2976\n"
     ]
    }
   ],
   "source": [
    "rules_with_counts = {}\n",
    "for r in rules:\n",
    "    parent, children = parse_rule_with_counts(r)\n",
    "    rules_with_counts[parent] = children\n",
    "\n",
    "count = bag_count(rules_with_counts, 'shiny gold')\n",
    "print('Part 2 Answer:',count)"
   ]
  }
 ],
 "metadata": {
  "kernelspec": {
   "display_name": "Python 3",
   "language": "python",
   "name": "python3"
  },
  "language_info": {
   "codemirror_mode": {
    "name": "ipython",
    "version": 3
   },
   "file_extension": ".py",
   "mimetype": "text/x-python",
   "name": "python",
   "nbconvert_exporter": "python",
   "pygments_lexer": "ipython3",
   "version": "3.7.4"
  }
 },
 "nbformat": 4,
 "nbformat_minor": 2
}
