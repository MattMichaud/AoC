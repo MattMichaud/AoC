{
 "cells": [
  {
   "cell_type": "code",
   "execution_count": 42,
   "metadata": {},
   "outputs": [
    {
     "name": "stdout",
     "output_type": "stream",
     "text": [
      "Part 1 Answer: 2368\n",
      "Part 2 Answer: 1727094849536\n"
     ]
    }
   ],
   "source": [
    "import collections\n",
    "def count_arrangements(joltages):\n",
    "    counts = collections.Counter()\n",
    "    counts[0] = 1\n",
    "    for n in joltages:\n",
    "        counts[n] = counts[n - 1] + counts[n - 2] + counts[n - 3]\n",
    "    return(counts[joltages[-1]])\n",
    "\n",
    "def parse_input(filename):\n",
    "    with open('input_day10.txt') as f:\n",
    "        data = f.read().splitlines()\n",
    "    return(list(map(int, data)))\n",
    "    \n",
    "adapters = parse_input('input_day10.txt')\n",
    "joltages = sorted(adapters) + [max(adapters) + 3]\n",
    "diffs = [b - a for a, b in zip([0] + joltages, joltages)]\n",
    "print('Part 1 Answer:',diffs.count(1) * diffs.count(3))\n",
    "\n",
    "joltages = sorted(data2) + [max(data2) + 3]\n",
    "print('Part 2 Answer:',count_arrangements(joltages))"
   ]
  }
 ],
 "metadata": {
  "kernelspec": {
   "display_name": "Python 3",
   "language": "python",
   "name": "python3"
  },
  "language_info": {
   "codemirror_mode": {
    "name": "ipython",
    "version": 3
   },
   "file_extension": ".py",
   "mimetype": "text/x-python",
   "name": "python",
   "nbconvert_exporter": "python",
   "pygments_lexer": "ipython3",
   "version": "3.7.4"
  }
 },
 "nbformat": 4,
 "nbformat_minor": 2
}
