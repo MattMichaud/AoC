{
 "cells": [
  {
   "cell_type": "code",
   "execution_count": 101,
   "metadata": {},
   "outputs": [],
   "source": [
    "def get_input(filename):\n",
    "    with open(filename, 'r') as f:\n",
    "        data = f.read().splitlines()\n",
    "        data = [d.split(' = ') for d in data]\n",
    "    return(data)"
   ]
  },
  {
   "cell_type": "code",
   "execution_count": 105,
   "metadata": {},
   "outputs": [
    {
     "name": "stdout",
     "output_type": "stream",
     "text": [
      "Part 1 Answer: 13556564111697\n"
     ]
    }
   ],
   "source": [
    "def apply_mask(mask, value):\n",
    "    value_bin = list(bin(value)[2:].zfill(36))\n",
    "    result = list('0' * 36)\n",
    "    for i in range(36):\n",
    "        if mask[i] == 'X':\n",
    "            result[i] = value_bin[i]\n",
    "        else:\n",
    "            result[i] = mask[i]\n",
    "    result = int(''.join(result),2)\n",
    "    return(result)\n",
    "\n",
    "def sum_memory(mem):\n",
    "    result = sum([mem[m] for m in mem])\n",
    "    return(result)\n",
    "\n",
    "data = get_input('input_day14.txt')\n",
    "mask = ''\n",
    "memory = {}\n",
    "for d in data:\n",
    "    if d[0] == 'mask':\n",
    "        mask = d[1]\n",
    "    else:\n",
    "        address = d[0].replace('mem[','').replace(']','')\n",
    "        value = int(d[1])\n",
    "        memory[address] = apply_mask(mask, value)\n",
    "        \n",
    "print('Part 1 Answer:',sum_memory(memory))"
   ]
  },
  {
   "cell_type": "code",
   "execution_count": 106,
   "metadata": {},
   "outputs": [
    {
     "name": "stdout",
     "output_type": "stream",
     "text": [
      "Part 2 Answer: 4173715962894\n"
     ]
    }
   ],
   "source": [
    "import itertools\n",
    "\n",
    "def apply_mask_floating(mask, address):\n",
    "    address = list(bin(address)[2:].zfill(36))\n",
    "    result = list('0' * 36)\n",
    "    for i in range(36):\n",
    "        if mask[i] in 'X1':\n",
    "            result[i] = mask[i]\n",
    "        else:\n",
    "            result[i] = address[i]\n",
    "    combos = []\n",
    "    for element in result:\n",
    "        if element in '01':\n",
    "            combos.append(list(element))\n",
    "        else:\n",
    "            combos.append(['0','1'])\n",
    "    combos = [int(''.join(c),2) for c in list(itertools.product(*combos))]\n",
    "    return(combos)\n",
    "\n",
    "data = get_input('input_day14.txt')\n",
    "memory = {}\n",
    "for d in data:\n",
    "    if d[0] == 'mask':\n",
    "        mask = d[1]\n",
    "    else:\n",
    "        address = int(d[0].replace('mem[','').replace(']',''))\n",
    "        addresses = apply_mask_floating(mask, address)\n",
    "        value = int(d[1])\n",
    "        for a in addresses:\n",
    "            memory[str(a)] = value\n",
    "\n",
    "print('Part 2 Answer:',sum_memory(memory))"
   ]
  }
 ],
 "metadata": {
  "kernelspec": {
   "display_name": "Python 3",
   "language": "python",
   "name": "python3"
  },
  "language_info": {
   "codemirror_mode": {
    "name": "ipython",
    "version": 3
   },
   "file_extension": ".py",
   "mimetype": "text/x-python",
   "name": "python",
   "nbconvert_exporter": "python",
   "pygments_lexer": "ipython3",
   "version": "3.7.4"
  }
 },
 "nbformat": 4,
 "nbformat_minor": 2
}
