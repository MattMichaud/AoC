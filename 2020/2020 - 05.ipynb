{
 "cells": [
  {
   "cell_type": "code",
   "execution_count": 2,
   "metadata": {},
   "outputs": [
    {
     "name": "stdout",
     "output_type": "stream",
     "text": [
      "Max Seat ID:  878\n",
      "Missing Seat:  504\n"
     ]
    }
   ],
   "source": [
    "with open('input_day5.txt') as f:\n",
    "    lines = f.read().splitlines()\n",
    "\n",
    "def convertToID(code, zeroChar, oneChar):\n",
    "    return(int(code.replace(zeroChar, '0').replace(oneChar, '1'), 2))\n",
    "\n",
    "def getSeatID(code):\n",
    "    return(convertToID(code[:7], 'F', 'B') * 8 + convertToID(code[7:], 'L', 'R'))\n",
    "\n",
    "seatIDlist = []\n",
    "[seatIDlist.append(getSeatID(l)) for l in lines]\n",
    "print('Max Seat ID: ', str(max(seatIDlist)))\n",
    "\n",
    "for x in range(min(seatIDlist), max(seatIDlist)):\n",
    "    if x not in seatIDlist:\n",
    "        print('Missing Seat: ', str(x))"
   ]
  }
 ],
 "metadata": {
  "kernelspec": {
   "display_name": "Python 3",
   "language": "python",
   "name": "python3"
  },
  "language_info": {
   "codemirror_mode": {
    "name": "ipython",
    "version": 3
   },
   "file_extension": ".py",
   "mimetype": "text/x-python",
   "name": "python",
   "nbconvert_exporter": "python",
   "pygments_lexer": "ipython3",
   "version": "3.7.4"
  }
 },
 "nbformat": 4,
 "nbformat_minor": 4
}
