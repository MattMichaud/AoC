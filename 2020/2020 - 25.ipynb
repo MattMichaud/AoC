{
 "cells": [
  {
   "cell_type": "code",
   "execution_count": 23,
   "metadata": {},
   "outputs": [
    {
     "name": "stdout",
     "output_type": "stream",
     "text": [
      "Part 1 Answer: 10187657\n",
      "There is no Part 2 -- Merry Christmas\n"
     ]
    }
   ],
   "source": [
    "def perform_loop(subject_number, size=1):\n",
    "    value = 1\n",
    "    for i in range(size):\n",
    "        value = (value * subject_number) % 20201227\n",
    "    return(value)\n",
    "    \n",
    "def reverse_loop(key, subject_number):\n",
    "    value = 1\n",
    "    counter = 0\n",
    "    while value != key:\n",
    "        counter += 1\n",
    "        value = (value * subject_number) % 20201227\n",
    "    return(counter)\n",
    "    \n",
    "card_public = 1327981\n",
    "door_loop = reverse_loop(door_public, 7)\n",
    "encryption_key = perform_loop(card_public, door_loop)\n",
    "print('Part 1 Answer:', encryption_key)\n",
    "print('There is no Part 2 -- Merry Christmas')"
   ]
  }
 ],
 "metadata": {
  "kernelspec": {
   "display_name": "Python 3",
   "language": "python",
   "name": "python3"
  },
  "language_info": {
   "codemirror_mode": {
    "name": "ipython",
    "version": 3
   },
   "file_extension": ".py",
   "mimetype": "text/x-python",
   "name": "python",
   "nbconvert_exporter": "python",
   "pygments_lexer": "ipython3",
   "version": "3.8.3"
  }
 },
 "nbformat": 4,
 "nbformat_minor": 4
}
