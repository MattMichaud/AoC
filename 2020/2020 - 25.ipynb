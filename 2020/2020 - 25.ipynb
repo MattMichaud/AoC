{
 "cells": [
  {
   "cell_type": "code",
   "execution_count": 10,
   "metadata": {},
   "outputs": [
    {
     "output_type": "stream",
     "name": "stdout",
     "text": [
      "Door Loop: 11\nCard Loop: 8\nPart 1 Answer: 14897079\nThere is no Part 2 -- Merry Christmas\n"
     ]
    }
   ],
   "source": [
    "def perform_loop(subject_number, size=1):\n",
    "    value = 1\n",
    "    for i in range(size):\n",
    "        value = (value * subject_number) % 20201227\n",
    "    return(value)\n",
    "    \n",
    "def reverse_loop(key, subject_number):\n",
    "    value = 1\n",
    "    counter = 0\n",
    "    while value != key:\n",
    "        counter += 1\n",
    "        value = (value * subject_number) % 20201227\n",
    "    return(counter)\n",
    "    \n",
    "card_public = 5764801 # these are the test inputs... I literrally can't find the actual input anymore\n",
    "door_public = 17807724\n",
    "door_loop = reverse_loop(door_public, 7)\n",
    "card_loop = reverse_loop(card_public, 7)\n",
    "print('Door Loop:',door_loop)\n",
    "print('Card Loop:',card_loop)\n",
    "encryption_key = perform_loop(card_public, door_loop)\n",
    "encryption_key = perform_loop(door_public, card_loop)\n",
    "print('Part 1 Answer:', encryption_key)\n",
    "print('There is no Part 2 -- Merry Christmas!!')"
   ]
  }
 ],
 "metadata": {
  "kernelspec": {
   "display_name": "Python 3",
   "language": "python",
   "name": "python3"
  },
  "language_info": {
   "codemirror_mode": {
    "name": "ipython",
    "version": 3
   },
   "file_extension": ".py",
   "mimetype": "text/x-python",
   "name": "python",
   "nbconvert_exporter": "python",
   "pygments_lexer": "ipython3",
   "version": "3.7.4-final"
  }
 },
 "nbformat": 4,
 "nbformat_minor": 4
}