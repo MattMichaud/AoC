{
 "cells": [
  {
   "cell_type": "code",
   "execution_count": 13,
   "metadata": {},
   "outputs": [
    {
     "name": "stdout",
     "output_type": "stream",
     "text": [
      "Part 1 Answer: 2779\n",
      "Part 2 Answer: lkv,lfcppl,jhsrjlj,jrhvk,zkls,qjltjd,xslr,rfpbpn\n"
     ]
    }
   ],
   "source": [
    "def parse_input(filename):\n",
    "    with open(filename, 'r') as f:\n",
    "        data =  f.read().splitlines()\n",
    "    foods = {}\n",
    "    for num, line in enumerate(data):\n",
    "        a, b = line.replace(')','').split(' (contains ')\n",
    "        foods[num] = {'ingredients': a.split(' '), 'allergens': b.split(', ')}\n",
    "    return(foods)\n",
    "\n",
    "def create_allergen_list(foods):\n",
    "    allergen_list = set()\n",
    "    [[allergen_list.add(a) for a in foods[f]['allergens']] for f in foods]\n",
    "    return(list(allergen_list))\n",
    "\n",
    "def create_allergen_dict(allergen_list, foods):\n",
    "    allergen_dict = {}\n",
    "    for allergen in allergen_list:\n",
    "        allergen_dict[allergen] = {'appears in':[]}\n",
    "        for f in foods.values():\n",
    "            if allergen in f['allergens']:\n",
    "                allergen_dict[allergen]['appears in'].append(set(f['ingredients']))\n",
    "    return(allergen_dict)\n",
    "\n",
    "def add_intersections(allergen_dict):\n",
    "    for key in allergen_dict:\n",
    "        allergen_dict[key]['intersection'] = list(set.intersection(*allergen_dict[key]['appears in']))\n",
    "\n",
    "def reduce_intersections(allergen_dict):\n",
    "    while max([len(allergen_dict[key]['intersection']) for key in allergen_dict]) > 1:\n",
    "        for key in allergen_dict:\n",
    "            if len(allergen_dict[key]['intersection']) == 1:\n",
    "                allergen = allergen_dict[key]['intersection'][0]\n",
    "                other_allergens = set(allergen_dict) - set([key])\n",
    "                for other_key in other_allergens:\n",
    "                    if allergen in allergen_dict[other_key]['intersection']:\n",
    "                        allergen_dict[other_key]['intersection'].remove(allergen)\n",
    "\n",
    "def bad_ingredient_list(allergen_dict):\n",
    "    return([value['intersection'][0] for value in allergen_dict.values()])\n",
    "\n",
    "def count_good_ingredients(foods, bad_list):\n",
    "    total_good = 0\n",
    "    for key, value in foods.items():\n",
    "        for item in value['ingredients']:\n",
    "            if item not in bad_list:\n",
    "                total_good += 1\n",
    "    return(total_good)\n",
    "\n",
    "def solve_problem(filename):\n",
    "    foods = parse_input(filename)\n",
    "    allergen_list = create_allergen_list(foods)\n",
    "    allergen_list.sort()    \n",
    "    allergen_dict = create_allergen_dict(allergen_list, foods)\n",
    "    add_intersections(allergen_dict)\n",
    "    reduce_intersections(allergen_dict)\n",
    "    print('Part 1 Answer:',count_good_ingredients(foods, bad_ingredient_list(allergen_dict)))\n",
    "    print('Part 2 Answer:',','.join([allergen_dict[item]['intersection'][0] for item in allergen_list]))\n",
    "\n",
    "solve_problem('input_day21.txt')"
   ]
  }
 ],
 "metadata": {
  "kernelspec": {
   "display_name": "Python 3",
   "language": "python",
   "name": "python3"
  },
  "language_info": {
   "codemirror_mode": {
    "name": "ipython",
    "version": 3
   },
   "file_extension": ".py",
   "mimetype": "text/x-python",
   "name": "python",
   "nbconvert_exporter": "python",
   "pygments_lexer": "ipython3",
   "version": "3.7.4"
  }
 },
 "nbformat": 4,
 "nbformat_minor": 2
}
