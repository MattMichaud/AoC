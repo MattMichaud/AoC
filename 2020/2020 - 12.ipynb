{
 "cells": [
  {
   "cell_type": "code",
   "execution_count": 82,
   "metadata": {},
   "outputs": [
    {
     "name": "stdout",
     "output_type": "stream",
     "text": [
      "Part 1 Answer: 1152\n"
     ]
    }
   ],
   "source": [
    "def get_new_heading(current_heading, command):\n",
    "    headings = 'ESWN'\n",
    "    turn_direction = command[0]\n",
    "    degrees = int(command[1:]) / 90\n",
    "    curr_index = headings.find(current_heading)\n",
    "    if turn_direction == 'R':\n",
    "        new_index = int((curr_index + (degrees)) % 4)\n",
    "    elif turn_direction == 'L':\n",
    "        new_index = int((curr_index - (degrees)) % 4)\n",
    "    else:\n",
    "        new_index = curr_index\n",
    "        print('ERROR INPUT TO get_new_heading')\n",
    "    return(headings[new_index])\n",
    "    \n",
    "def distance_from_origin(dir_dict):\n",
    "    NS = abs( dir_dict['N'] - dir_dict['S'] )\n",
    "    EW = abs( dir_dict['E'] - dir_dict['W'] )\n",
    "    return(NS + EW)\n",
    "\n",
    "with open('input_day12.txt', 'r') as f:\n",
    "    data = f.read()\n",
    "    \n",
    "data = data.split()\n",
    "current_heading = 'E'\n",
    "distance_moved = {\n",
    "    'N': 0,\n",
    "    'W': 0,\n",
    "    'S': 0,\n",
    "    'E': 0\n",
    "}\n",
    "for command in data:\n",
    "    command_type = command[0]\n",
    "    command_value = int(command[1:])\n",
    "    if command_type in 'NSEW':\n",
    "        distance_moved[command_type] = distance_moved[command_type] + command_value\n",
    "    if command_type in 'LR':\n",
    "        current_heading = get_new_heading(current_heading, command)\n",
    "    if command_type == 'F':\n",
    "        distance_moved[current_heading] = distance_moved[current_heading] + command_value\n",
    "        \n",
    "print('Part 1 Answer:',distance_from_origin(distance_moved))"
   ]
  },
  {
   "cell_type": "code",
   "execution_count": 89,
   "metadata": {},
   "outputs": [
    {
     "name": "stdout",
     "output_type": "stream",
     "text": [
      "Part 2 Answer: 58637\n"
     ]
    }
   ],
   "source": [
    "def rotate_waypoint(wp, command):\n",
    "    import math\n",
    "    theta = math.radians(int(command[1:]))\n",
    "    if command[0] == 'R':\n",
    "        theta = -1 * theta\n",
    "    x, y = wp\n",
    "    new_x = round((x * math.cos(theta)) - (y * math.sin(theta)))\n",
    "    new_y = round((x * math.sin(theta)) + (y * math.cos(theta)))\n",
    "    return((new_x, new_y))\n",
    "\n",
    "def move_waypoint(item, command):\n",
    "    x, y = item\n",
    "    direction = command[0]\n",
    "    distance = int(command[1:])\n",
    "    if direction in 'WS':\n",
    "        distance = distance * -1\n",
    "    if direction in 'NS':\n",
    "        y += distance\n",
    "    if direction in 'EW':\n",
    "        x += distance\n",
    "    return((x,y))\n",
    "\n",
    "def move_ship(ship, waypoint, command):\n",
    "    ship_x, ship_y = ship\n",
    "    ship_x += int(command[1:]) * waypoint[0]\n",
    "    ship_y += int(command[1:]) * waypoint[1]\n",
    "    return((ship_x, ship_y))\n",
    "\n",
    "\n",
    "with open('input_day12.txt', 'r') as f:\n",
    "    data = f.read()\n",
    "    \n",
    "data = data.split()\n",
    "\n",
    "ship = (0, 0)\n",
    "waypoint = (10, 1)\n",
    "\n",
    "for command in data:\n",
    "    if command[0] in 'NSEW':\n",
    "        waypoint = move_waypoint(waypoint, command)\n",
    "    if command[0] in 'LR':\n",
    "        waypoint = rotate_waypoint(waypoint, command)\n",
    "    if command[0] == 'F':\n",
    "        ship = move_ship(ship, waypoint, command)\n",
    "\n",
    "print('Part 2 Answer:',abs(ship[0]) + abs(ship[1]))\n"
   ]
  }
 ],
 "metadata": {
  "kernelspec": {
   "display_name": "Python 3",
   "language": "python",
   "name": "python3"
  },
  "language_info": {
   "codemirror_mode": {
    "name": "ipython",
    "version": 3
   },
   "file_extension": ".py",
   "mimetype": "text/x-python",
   "name": "python",
   "nbconvert_exporter": "python",
   "pygments_lexer": "ipython3",
   "version": "3.7.4"
  }
 },
 "nbformat": 4,
 "nbformat_minor": 2
}
