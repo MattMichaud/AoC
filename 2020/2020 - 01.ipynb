{
 "cells": [
  {
   "cell_type": "code",
   "execution_count": 21,
   "metadata": {},
   "outputs": [
    {
     "name": "stdout",
     "output_type": "stream",
     "text": [
      "Part 1 Answer: 1020099\n",
      "Part 2 Answer: 49214880\n"
     ]
    }
   ],
   "source": [
    "from itertools import combinations\n",
    "import numpy as np\n",
    "\n",
    "def parse_input(filename):\n",
    "    with open(filename, 'r') as f:\n",
    "        data = f.read().splitlines()\n",
    "    return(list(map(int, data)))\n",
    "\n",
    "def find_sum(li, target, length):\n",
    "    for tup in combinations(li, length):\n",
    "        if sum(tup) == target:\n",
    "            return(tup)\n",
    "\n",
    "expenses = parse_input('input_day1.txt')\n",
    "print('Part 1 Answer:', np.prod(find_sum(expenses, 2020, 2)))\n",
    "print('Part 2 Answer:', np.prod(find_sum(expenses, 2020, 3)))"
   ]
  }
 ],
 "metadata": {
  "kernelspec": {
   "display_name": "Python 3",
   "language": "python",
   "name": "python3"
  },
  "language_info": {
   "codemirror_mode": {
    "name": "ipython",
    "version": 3
   },
   "file_extension": ".py",
   "mimetype": "text/x-python",
   "name": "python",
   "nbconvert_exporter": "python",
   "pygments_lexer": "ipython3",
   "version": "3.7.4"
  }
 },
 "nbformat": 4,
 "nbformat_minor": 2
}
