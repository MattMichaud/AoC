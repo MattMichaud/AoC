{
 "cells": [
  {
   "cell_type": "code",
   "execution_count": 105,
   "metadata": {},
   "outputs": [
    {
     "name": "stdout",
     "output_type": "stream",
     "text": [
      "Distinct Numbers 386\n",
      "Part 1 Answer: 614\n",
      "Distinct Numbers 3611295\n",
      "Part 2 Answer: 1065\n"
     ]
    }
   ],
   "source": [
    "def get_number(starting, target_turn):\n",
    "    turn = 1\n",
    "    history = {}\n",
    "    \n",
    "    # inititalize dict\n",
    "    for i in range(len(starting)):\n",
    "        history[starting[i]] = {'last_turn': turn, 'age': 0}\n",
    "        turn += 1\n",
    "        last_spoken = starting[i]\n",
    "        \n",
    "    while turn <= target_turn:\n",
    "        last_spoken_hist = history[last_spoken]\n",
    "\n",
    "        if last_spoken_hist['age'] == 0:\n",
    "            new_number = 0\n",
    "        else:\n",
    "            new_number = last_spoken_hist['age']\n",
    "        \n",
    "        if new_number in history:\n",
    "            history[new_number]['age'] = turn - history[new_number]['last_turn']\n",
    "            history[new_number]['last_turn'] = turn\n",
    "        else:\n",
    "            history[new_number] = {'last_turn': turn, 'age': 0}\n",
    "        \n",
    "        last_spoken = new_number\n",
    "        turn += 1\n",
    "\n",
    "    return(last_spoken)\n",
    "    \n",
    "data = [14, 3, 1, 0, 9, 5]\n",
    "\n",
    "print('Part 1 Answer:', get_number(data, 2020))\n",
    "print('Part 2 Answer:', get_number(data, 30000000))"
   ]
  }
 ],
 "metadata": {
  "kernelspec": {
   "display_name": "Python 3",
   "language": "python",
   "name": "python3"
  },
  "language_info": {
   "codemirror_mode": {
    "name": "ipython",
    "version": 3
   },
   "file_extension": ".py",
   "mimetype": "text/x-python",
   "name": "python",
   "nbconvert_exporter": "python",
   "pygments_lexer": "ipython3",
   "version": "3.7.4"
  }
 },
 "nbformat": 4,
 "nbformat_minor": 2
}
