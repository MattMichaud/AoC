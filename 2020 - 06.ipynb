{
 "cells": [
  {
   "cell_type": "code",
   "execution_count": 2,
   "metadata": {},
   "outputs": [],
   "source": [
    "from itertools import groupby"
   ]
  },
  {
   "cell_type": "code",
   "execution_count": 3,
   "metadata": {},
   "outputs": [],
   "source": [
    "with open('input_day6.txt') as f:\n",
    "    raw = f.read().splitlines()\n",
    "grps = [list(sub) for ele, sub in groupby(raw, key = bool) if ele]"
   ]
  },
  {
   "cell_type": "code",
   "execution_count": 4,
   "metadata": {},
   "outputs": [],
   "source": [
    "def count_common(t):\n",
    "    sets = [set(s) for s in t]\n",
    "    return(len(sets[0].intersection(*sets[1:])))"
   ]
  },
  {
   "cell_type": "code",
   "execution_count": 5,
   "metadata": {},
   "outputs": [
    {
     "name": "stdout",
     "output_type": "stream",
     "text": [
      "Part 1 Answer: 6878\n",
      "Part 2 Answer: 3464\n"
     ]
    }
   ],
   "source": [
    "print('Part 1 Answer:', sum([len(set(''.join(g))) for g in grps]))\n",
    "print('Part 2 Answer:', sum([count_common(g) for g in grps]))"
   ]
  }
 ],
 "metadata": {
  "kernelspec": {
   "display_name": "Python 3",
   "language": "python",
   "name": "python3"
  },
  "language_info": {
   "codemirror_mode": {
    "name": "ipython",
    "version": 3
   },
   "file_extension": ".py",
   "mimetype": "text/x-python",
   "name": "python",
   "nbconvert_exporter": "python",
   "pygments_lexer": "ipython3",
   "version": "3.7.4"
  }
 },
 "nbformat": 4,
 "nbformat_minor": 4
}
