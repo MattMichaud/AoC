{
 "cells": [
  {
   "cell_type": "code",
   "execution_count": 25,
   "metadata": {},
   "outputs": [
    {
     "name": "stdout",
     "output_type": "stream",
     "text": [
      "Part 1 Answer: 2382\n"
     ]
    }
   ],
   "source": [
    "with open('input_day13.txt', 'r') as f:\n",
    "    data = f.read()\n",
    "    \n",
    "timestamp = int(data.split()[0])\n",
    "buslist = data.split()[1].split(',')\n",
    "buses = []\n",
    "for bus in buslist:\n",
    "    if bus != 'x':\n",
    "        buses.append(int(bus))\n",
    "check_time = timestamp\n",
    "bus_found = False        \n",
    "while not (bus_found):\n",
    "    for bus in buses:\n",
    "        if check_time % bus == 0:\n",
    "            print('Part 1 Answer:',bus * (check_time - timestamp))\n",
    "            bus_found = True\n",
    "    check_time += 1"
   ]
  },
  {
   "cell_type": "code",
   "execution_count": 44,
   "metadata": {},
   "outputs": [
    {
     "name": "stdout",
     "output_type": "stream",
     "text": [
      "Part 2 Answer: 906332393333683\n"
     ]
    }
   ],
   "source": [
    "with open('input_day13.txt', 'r') as f:\n",
    "    data = f.read()\n",
    "\n",
    "buslist = data.split()[1].split(',')\n",
    "buses = []\n",
    "for i in range(len(buslist)):\n",
    "    if buslist[i] != 'x':\n",
    "        buses.append([int(buslist[i]), i])\n",
    "        \n",
    "added_multiple = buses[0][0]\n",
    "start_checking = added_multiple\n",
    "for bus in buses[1:]:\n",
    "    found = False\n",
    "    bus_id = bus[0]\n",
    "    time_offset = bus[1]\n",
    "    multiples = 1\n",
    "    while not found:\n",
    "        check_num = start_checking + (multiples * added_multiple)\n",
    "        if ((check_num + time_offset) % bus_id) == 0:\n",
    "            start_checking = check_num\n",
    "            added_multiple = added_multiple * bus_id\n",
    "            found = True\n",
    "        multiples += 1\n",
    "\n",
    "print('Part 2 Answer:', check_num)"
   ]
  }
 ],
 "metadata": {
  "kernelspec": {
   "display_name": "Python 3",
   "language": "python",
   "name": "python3"
  },
  "language_info": {
   "codemirror_mode": {
    "name": "ipython",
    "version": 3
   },
   "file_extension": ".py",
   "mimetype": "text/x-python",
   "name": "python",
   "nbconvert_exporter": "python",
   "pygments_lexer": "ipython3",
   "version": "3.7.4"
  }
 },
 "nbformat": 4,
 "nbformat_minor": 2
}
